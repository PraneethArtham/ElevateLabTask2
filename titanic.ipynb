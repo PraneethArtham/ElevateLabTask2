import pandas as pd
import numpy as np
import matplotlib.pyplot as plt
import seaborn as sns
import plotly.express as px

df = pd.read_csv("titanic_cleaned.csv")

print("Statistics:")
print(df.describe())

# Step 2: Histograms 
print("\n Plotting histograms...")
df.hist(figsize=(12, 8), color="skyblue", edgecolor="black")
plt.suptitle("Histograms of Numeric Features")
plt.tight_layout()
plt.show()

# Step 3: Boxplots
print(" Plotting boxplots...")
plt.figure(figsize=(12, 5))
sns.boxplot(data=df[['Age', 'Fare']])
plt.title("Boxplot of Age and Fare")
plt.show()

# Step 4: Correlation matrix 
print(" Correlation Matrix:")
corr_matrix = df.corr(numeric_only=True)
plt.figure(figsize=(10, 7))
sns.heatmap(corr_matrix, annot=True, cmap='coolwarm', fmt='.2f')
plt.title("Correlation Matrix")
plt.show()

# Step 5: Pairplot 
print("Pairplot")
sns.pairplot(df[['Age', 'Fare', 'Pclass', 'Survived']].dropna(), hue='Survived')
plt.suptitle("Pairplot of Key Features vs Survived", y=1.02)
plt.show()

# Step 6: Check skewness
print(" Skewness:")
skew_values = df[['Age', 'Fare']].skew()
print(skew_values)
print("Survival by Gender:")
sns.countplot(data=df, x='Sex', hue='Survived')
plt.title("Survival Count by Gender")
plt.show()

print("Survival by Passenger Class:")
sns.countplot(data=df, x='Pclass', hue='Survived')
plt.title("Survival Count by Class")
plt.show()
